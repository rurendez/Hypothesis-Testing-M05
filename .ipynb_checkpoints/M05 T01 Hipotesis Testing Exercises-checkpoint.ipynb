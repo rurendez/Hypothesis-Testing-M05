{
 "cells": [
  {
   "cell_type": "markdown",
   "id": "eb9cbba9",
   "metadata": {},
   "source": [
    "# Exercises - Data Science Sprint 05 - M05 T01\n",
    "   **Hypothesis Testing**"
   ]
  },
  {
   "cell_type": "markdown",
   "id": "f4a33d4a",
   "metadata": {
    "ExecuteTime": {
     "end_time": "2022-11-02T18:19:23.471568Z",
     "start_time": "2022-11-02T18:19:23.459535Z"
    }
   },
   "source": [
    "## Exercise #1 - P-value - 1 attribute\n",
    "\n",
    "Download the given dataset of official UEFA data and select one attribute from the dataset. Calculate the p-value and explain if it rejects the null hypothesis having a significance level ($ \\alpha $) of 5% (0.05)."
   ]
  },
  {
   "cell_type": "code",
   "execution_count": 1,
   "id": "9290698c",
   "metadata": {
    "ExecuteTime": {
     "end_time": "2022-11-13T22:10:58.164038Z",
     "start_time": "2022-11-13T22:10:56.330247Z"
    },
    "scrolled": true
   },
   "outputs": [
    {
     "data": {
      "text/html": [
       "<div>\n",
       "<style scoped>\n",
       "    .dataframe tbody tr th:only-of-type {\n",
       "        vertical-align: middle;\n",
       "    }\n",
       "\n",
       "    .dataframe tbody tr th {\n",
       "        vertical-align: top;\n",
       "    }\n",
       "\n",
       "    .dataframe thead th {\n",
       "        text-align: right;\n",
       "    }\n",
       "</style>\n",
       "<table border=\"1\" class=\"dataframe\">\n",
       "  <thead>\n",
       "    <tr style=\"text-align: right;\">\n",
       "      <th></th>\n",
       "      <th>Rk</th>\n",
       "      <th>Squad</th>\n",
       "      <th>Country</th>\n",
       "      <th>LgRk</th>\n",
       "      <th>MP</th>\n",
       "      <th>W</th>\n",
       "      <th>D</th>\n",
       "      <th>L</th>\n",
       "      <th>GF</th>\n",
       "      <th>GA</th>\n",
       "      <th>...</th>\n",
       "      <th>Pts</th>\n",
       "      <th>Pts/G</th>\n",
       "      <th>xG</th>\n",
       "      <th>xGA</th>\n",
       "      <th>xGD</th>\n",
       "      <th>xGD/90</th>\n",
       "      <th>Last 5</th>\n",
       "      <th>Attendance</th>\n",
       "      <th>Top Team Scorer</th>\n",
       "      <th>Goalkeeper</th>\n",
       "    </tr>\n",
       "  </thead>\n",
       "  <tbody>\n",
       "    <tr>\n",
       "      <th>0</th>\n",
       "      <td>1</td>\n",
       "      <td>Manchester City</td>\n",
       "      <td>ENG</td>\n",
       "      <td>1</td>\n",
       "      <td>37</td>\n",
       "      <td>28</td>\n",
       "      <td>6</td>\n",
       "      <td>3</td>\n",
       "      <td>96</td>\n",
       "      <td>24</td>\n",
       "      <td>...</td>\n",
       "      <td>90</td>\n",
       "      <td>2.43</td>\n",
       "      <td>86.1</td>\n",
       "      <td>26.8</td>\n",
       "      <td>59.3</td>\n",
       "      <td>1.60</td>\n",
       "      <td>W W W W D</td>\n",
       "      <td>52739</td>\n",
       "      <td>Kevin De Bruyne - 15</td>\n",
       "      <td>Ederson</td>\n",
       "    </tr>\n",
       "    <tr>\n",
       "      <th>1</th>\n",
       "      <td>2</td>\n",
       "      <td>Liverpool</td>\n",
       "      <td>ENG</td>\n",
       "      <td>2</td>\n",
       "      <td>36</td>\n",
       "      <td>26</td>\n",
       "      <td>8</td>\n",
       "      <td>2</td>\n",
       "      <td>89</td>\n",
       "      <td>24</td>\n",
       "      <td>...</td>\n",
       "      <td>86</td>\n",
       "      <td>2.39</td>\n",
       "      <td>84.6</td>\n",
       "      <td>33.1</td>\n",
       "      <td>51.4</td>\n",
       "      <td>1.43</td>\n",
       "      <td>W W W D W</td>\n",
       "      <td>53367</td>\n",
       "      <td>Mohamed Salah - 22</td>\n",
       "      <td>Alisson</td>\n",
       "    </tr>\n",
       "    <tr>\n",
       "      <th>2</th>\n",
       "      <td>3</td>\n",
       "      <td>Real Madrid</td>\n",
       "      <td>ESP</td>\n",
       "      <td>1</td>\n",
       "      <td>37</td>\n",
       "      <td>26</td>\n",
       "      <td>7</td>\n",
       "      <td>4</td>\n",
       "      <td>80</td>\n",
       "      <td>31</td>\n",
       "      <td>...</td>\n",
       "      <td>85</td>\n",
       "      <td>2.30</td>\n",
       "      <td>73.0</td>\n",
       "      <td>45.8</td>\n",
       "      <td>27.2</td>\n",
       "      <td>0.73</td>\n",
       "      <td>W W L W D</td>\n",
       "      <td>40624</td>\n",
       "      <td>Karim Benzema - 27</td>\n",
       "      <td>Thibaut Courtois</td>\n",
       "    </tr>\n",
       "    <tr>\n",
       "      <th>3</th>\n",
       "      <td>4</td>\n",
       "      <td>Bayern Munich</td>\n",
       "      <td>GER</td>\n",
       "      <td>1</td>\n",
       "      <td>34</td>\n",
       "      <td>24</td>\n",
       "      <td>5</td>\n",
       "      <td>5</td>\n",
       "      <td>97</td>\n",
       "      <td>37</td>\n",
       "      <td>...</td>\n",
       "      <td>77</td>\n",
       "      <td>2.26</td>\n",
       "      <td>88.1</td>\n",
       "      <td>37.1</td>\n",
       "      <td>51.0</td>\n",
       "      <td>1.50</td>\n",
       "      <td>W W L D D</td>\n",
       "      <td>33176</td>\n",
       "      <td>Robert Lewandowski - 35</td>\n",
       "      <td>Manuel Neuer</td>\n",
       "    </tr>\n",
       "    <tr>\n",
       "      <th>4</th>\n",
       "      <td>5</td>\n",
       "      <td>Paris S-G</td>\n",
       "      <td>FRA</td>\n",
       "      <td>1</td>\n",
       "      <td>37</td>\n",
       "      <td>25</td>\n",
       "      <td>8</td>\n",
       "      <td>4</td>\n",
       "      <td>85</td>\n",
       "      <td>36</td>\n",
       "      <td>...</td>\n",
       "      <td>83</td>\n",
       "      <td>2.24</td>\n",
       "      <td>71.6</td>\n",
       "      <td>38.1</td>\n",
       "      <td>33.4</td>\n",
       "      <td>0.90</td>\n",
       "      <td>W D D D W</td>\n",
       "      <td>41188</td>\n",
       "      <td>Kylian Mbappé - 25</td>\n",
       "      <td>Keylor Navas</td>\n",
       "    </tr>\n",
       "  </tbody>\n",
       "</table>\n",
       "<p>5 rows × 21 columns</p>\n",
       "</div>"
      ],
      "text/plain": [
       "   Rk            Squad Country  LgRk  MP   W  D  L  GF  GA  ...  Pts  Pts/G  \\\n",
       "0   1  Manchester City     ENG     1  37  28  6  3  96  24  ...   90   2.43   \n",
       "1   2        Liverpool     ENG     2  36  26  8  2  89  24  ...   86   2.39   \n",
       "2   3      Real Madrid     ESP     1  37  26  7  4  80  31  ...   85   2.30   \n",
       "3   4    Bayern Munich     GER     1  34  24  5  5  97  37  ...   77   2.26   \n",
       "4   5        Paris S-G     FRA     1  37  25  8  4  85  36  ...   83   2.24   \n",
       "\n",
       "     xG   xGA   xGD  xGD/90     Last 5 Attendance          Top Team Scorer  \\\n",
       "0  86.1  26.8  59.3    1.60  W W W W D      52739     Kevin De Bruyne - 15   \n",
       "1  84.6  33.1  51.4    1.43  W W W D W      53367       Mohamed Salah - 22   \n",
       "2  73.0  45.8  27.2    0.73  W W L W D      40624       Karim Benzema - 27   \n",
       "3  88.1  37.1  51.0    1.50  W W L D D      33176  Robert Lewandowski - 35   \n",
       "4  71.6  38.1  33.4    0.90  W D D D W      41188       Kylian Mbappé - 25   \n",
       "\n",
       "         Goalkeeper  \n",
       "0           Ederson  \n",
       "1           Alisson  \n",
       "2  Thibaut Courtois  \n",
       "3      Manuel Neuer  \n",
       "4      Keylor Navas  \n",
       "\n",
       "[5 rows x 21 columns]"
      ]
     },
     "execution_count": 1,
     "metadata": {},
     "output_type": "execute_result"
    }
   ],
   "source": [
    "import pandas as pd\n",
    "import numpy as np\n",
    "import matplotlib.pyplot as plt\n",
    "import seaborn as sns \n",
    "\n",
    "# Import data from file. Notice that fields are separated by \";\"\n",
    "uefa_df = pd.read_csv(\"Lligues europees UEFA.csv\",encoding=\"ISO-8859-1\", sep=';')\n",
    "uefa_df.head()"
   ]
  },
  {
   "cell_type": "markdown",
   "id": "2ca43e16",
   "metadata": {},
   "source": [
    "**Soccer Table Abbreviations and Their Meaning**\n",
    "\n",
    "* Rk - Ranking index\n",
    "* Squad - Soccher club name\n",
    "* Country - Club country\n",
    "* LgRk - Ranking on club country ligue\n",
    "* MP – Matches Played \n",
    "* W – Won (i.e., number of matches won).\n",
    "* D – Draw (i.e., number of times a team has finished a match with an even score or tie).\n",
    "* L – Loss (i.e., number of matches lost).\n",
    "* GF – Goals For (sometimes used in place of GS).\n",
    "* GA – Goals Against (i.e., number of goals conceded by a team).\n",
    "* GD – Goal Difference (i.e., difference between GF and GA, and sometimes denoted by +/-). \n",
    "* Pts – Points (i.e., total number of points earned by a team after playing a certain number of games)\n",
    "* Pts/G - Points / Games played\n",
    "* xG - the number of expected goals from one or several players, depend on the quality of the kicks.\n",
    "* xGA - the number of expected goals from opponents, depend on the quality of the kicks.\n",
    "* xGD - the difference between expected scored and expected missed goals. xGD=xG-xGA.\n",
    "* xGD/90          xGD/90 -- Expected Goals Difference per 90 Minutes\n",
    "* Last 5 - Last Five Matches. Matches are ordered chronologically from left-to-right\n",
    "* Attendance - Attendance per game during this season, only for home matches\n",
    "* Top Team Scorer - Only includes league matches for that season\n",
    "* Goalkeeper - Goalkeeper with the most minutes in league play"
   ]
  },
  {
   "cell_type": "code",
   "execution_count": 2,
   "id": "f3c8d049",
   "metadata": {
    "ExecuteTime": {
     "end_time": "2022-11-13T22:10:58.179420Z",
     "start_time": "2022-11-13T22:10:58.165989Z"
    }
   },
   "outputs": [
    {
     "name": "stdout",
     "output_type": "stream",
     "text": [
      "<class 'pandas.core.frame.DataFrame'>\n",
      "RangeIndex: 98 entries, 0 to 97\n",
      "Data columns (total 21 columns):\n",
      " #   Column           Non-Null Count  Dtype  \n",
      "---  ------           --------------  -----  \n",
      " 0   Rk               98 non-null     int64  \n",
      " 1   Squad            98 non-null     object \n",
      " 2   Country          98 non-null     object \n",
      " 3   LgRk             98 non-null     int64  \n",
      " 4   MP               98 non-null     int64  \n",
      " 5   W                98 non-null     int64  \n",
      " 6   D                98 non-null     int64  \n",
      " 7   L                98 non-null     int64  \n",
      " 8   GF               98 non-null     int64  \n",
      " 9   GA               98 non-null     int64  \n",
      " 10  GD               98 non-null     int64  \n",
      " 11  Pts              98 non-null     int64  \n",
      " 12  Pts/G            98 non-null     float64\n",
      " 13  xG               98 non-null     float64\n",
      " 14  xGA              98 non-null     float64\n",
      " 15  xGD              98 non-null     float64\n",
      " 16  xGD/90           98 non-null     float64\n",
      " 17  Last 5           98 non-null     object \n",
      " 18  Attendance       98 non-null     int64  \n",
      " 19  Top Team Scorer  98 non-null     object \n",
      " 20  Goalkeeper       98 non-null     object \n",
      "dtypes: float64(5), int64(11), object(5)\n",
      "memory usage: 16.2+ KB\n"
     ]
    }
   ],
   "source": [
    "# Let's display the dataset info \n",
    "uefa_df.info()"
   ]
  },
  {
   "cell_type": "code",
   "execution_count": 3,
   "id": "e230ccce",
   "metadata": {
    "ExecuteTime": {
     "end_time": "2022-11-13T22:10:58.227487Z",
     "start_time": "2022-11-13T22:10:58.181420Z"
    },
    "scrolled": true
   },
   "outputs": [
    {
     "data": {
      "text/html": [
       "<div>\n",
       "<style scoped>\n",
       "    .dataframe tbody tr th:only-of-type {\n",
       "        vertical-align: middle;\n",
       "    }\n",
       "\n",
       "    .dataframe tbody tr th {\n",
       "        vertical-align: top;\n",
       "    }\n",
       "\n",
       "    .dataframe thead th {\n",
       "        text-align: right;\n",
       "    }\n",
       "</style>\n",
       "<table border=\"1\" class=\"dataframe\">\n",
       "  <thead>\n",
       "    <tr style=\"text-align: right;\">\n",
       "      <th></th>\n",
       "      <th>Rk</th>\n",
       "      <th>LgRk</th>\n",
       "      <th>MP</th>\n",
       "      <th>W</th>\n",
       "      <th>D</th>\n",
       "      <th>L</th>\n",
       "      <th>GF</th>\n",
       "      <th>GA</th>\n",
       "      <th>GD</th>\n",
       "      <th>Pts</th>\n",
       "      <th>Pts/G</th>\n",
       "      <th>xG</th>\n",
       "      <th>xGA</th>\n",
       "      <th>xGD</th>\n",
       "      <th>xGD/90</th>\n",
       "      <th>Attendance</th>\n",
       "    </tr>\n",
       "  </thead>\n",
       "  <tbody>\n",
       "    <tr>\n",
       "      <th>count</th>\n",
       "      <td>98.000000</td>\n",
       "      <td>98.000000</td>\n",
       "      <td>98.000000</td>\n",
       "      <td>98.000000</td>\n",
       "      <td>98.000000</td>\n",
       "      <td>98.00000</td>\n",
       "      <td>98.000000</td>\n",
       "      <td>98.000000</td>\n",
       "      <td>98.000000</td>\n",
       "      <td>98.000000</td>\n",
       "      <td>98.000000</td>\n",
       "      <td>98.000000</td>\n",
       "      <td>98.000000</td>\n",
       "      <td>98.000000</td>\n",
       "      <td>98.000000</td>\n",
       "      <td>98.000000</td>\n",
       "    </tr>\n",
       "    <tr>\n",
       "      <th>mean</th>\n",
       "      <td>49.500000</td>\n",
       "      <td>10.316327</td>\n",
       "      <td>36.306122</td>\n",
       "      <td>13.448980</td>\n",
       "      <td>9.408163</td>\n",
       "      <td>13.44898</td>\n",
       "      <td>50.877551</td>\n",
       "      <td>50.877551</td>\n",
       "      <td>0.000000</td>\n",
       "      <td>49.734694</td>\n",
       "      <td>1.370204</td>\n",
       "      <td>48.653061</td>\n",
       "      <td>48.645918</td>\n",
       "      <td>-0.005102</td>\n",
       "      <td>0.000918</td>\n",
       "      <td>24239.857143</td>\n",
       "    </tr>\n",
       "    <tr>\n",
       "      <th>std</th>\n",
       "      <td>28.434134</td>\n",
       "      <td>5.706926</td>\n",
       "      <td>1.152390</td>\n",
       "      <td>5.747474</td>\n",
       "      <td>2.903381</td>\n",
       "      <td>5.12347</td>\n",
       "      <td>16.102933</td>\n",
       "      <td>13.634602</td>\n",
       "      <td>26.501896</td>\n",
       "      <td>16.166371</td>\n",
       "      <td>0.443903</td>\n",
       "      <td>12.453950</td>\n",
       "      <td>9.812481</td>\n",
       "      <td>19.992506</td>\n",
       "      <td>0.551414</td>\n",
       "      <td>14874.171842</td>\n",
       "    </tr>\n",
       "    <tr>\n",
       "      <th>min</th>\n",
       "      <td>1.000000</td>\n",
       "      <td>1.000000</td>\n",
       "      <td>34.000000</td>\n",
       "      <td>3.000000</td>\n",
       "      <td>3.000000</td>\n",
       "      <td>2.00000</td>\n",
       "      <td>23.000000</td>\n",
       "      <td>24.000000</td>\n",
       "      <td>-56.000000</td>\n",
       "      <td>18.000000</td>\n",
       "      <td>0.530000</td>\n",
       "      <td>28.200000</td>\n",
       "      <td>26.800000</td>\n",
       "      <td>-40.400000</td>\n",
       "      <td>-1.090000</td>\n",
       "      <td>5870.000000</td>\n",
       "    </tr>\n",
       "    <tr>\n",
       "      <th>25%</th>\n",
       "      <td>25.250000</td>\n",
       "      <td>5.250000</td>\n",
       "      <td>36.000000</td>\n",
       "      <td>9.000000</td>\n",
       "      <td>7.000000</td>\n",
       "      <td>10.00000</td>\n",
       "      <td>39.000000</td>\n",
       "      <td>40.000000</td>\n",
       "      <td>-17.750000</td>\n",
       "      <td>37.000000</td>\n",
       "      <td>1.000000</td>\n",
       "      <td>39.100000</td>\n",
       "      <td>41.300000</td>\n",
       "      <td>-13.575000</td>\n",
       "      <td>-0.365000</td>\n",
       "      <td>12355.500000</td>\n",
       "    </tr>\n",
       "    <tr>\n",
       "      <th>50%</th>\n",
       "      <td>49.500000</td>\n",
       "      <td>10.000000</td>\n",
       "      <td>37.000000</td>\n",
       "      <td>13.000000</td>\n",
       "      <td>9.000000</td>\n",
       "      <td>13.00000</td>\n",
       "      <td>47.000000</td>\n",
       "      <td>50.000000</td>\n",
       "      <td>-1.000000</td>\n",
       "      <td>46.000000</td>\n",
       "      <td>1.300000</td>\n",
       "      <td>46.450000</td>\n",
       "      <td>47.750000</td>\n",
       "      <td>-1.100000</td>\n",
       "      <td>-0.030000</td>\n",
       "      <td>20491.000000</td>\n",
       "    </tr>\n",
       "    <tr>\n",
       "      <th>75%</th>\n",
       "      <td>73.750000</td>\n",
       "      <td>15.000000</td>\n",
       "      <td>37.000000</td>\n",
       "      <td>17.000000</td>\n",
       "      <td>11.000000</td>\n",
       "      <td>17.00000</td>\n",
       "      <td>60.000000</td>\n",
       "      <td>59.000000</td>\n",
       "      <td>17.250000</td>\n",
       "      <td>61.750000</td>\n",
       "      <td>1.695000</td>\n",
       "      <td>55.550000</td>\n",
       "      <td>54.700000</td>\n",
       "      <td>12.800000</td>\n",
       "      <td>0.355000</td>\n",
       "      <td>32382.000000</td>\n",
       "    </tr>\n",
       "    <tr>\n",
       "      <th>max</th>\n",
       "      <td>98.000000</td>\n",
       "      <td>20.000000</td>\n",
       "      <td>37.000000</td>\n",
       "      <td>28.000000</td>\n",
       "      <td>16.000000</td>\n",
       "      <td>26.00000</td>\n",
       "      <td>97.000000</td>\n",
       "      <td>89.000000</td>\n",
       "      <td>72.000000</td>\n",
       "      <td>90.000000</td>\n",
       "      <td>2.430000</td>\n",
       "      <td>88.100000</td>\n",
       "      <td>73.300000</td>\n",
       "      <td>59.300000</td>\n",
       "      <td>1.600000</td>\n",
       "      <td>73150.000000</td>\n",
       "    </tr>\n",
       "  </tbody>\n",
       "</table>\n",
       "</div>"
      ],
      "text/plain": [
       "              Rk       LgRk         MP          W          D         L  \\\n",
       "count  98.000000  98.000000  98.000000  98.000000  98.000000  98.00000   \n",
       "mean   49.500000  10.316327  36.306122  13.448980   9.408163  13.44898   \n",
       "std    28.434134   5.706926   1.152390   5.747474   2.903381   5.12347   \n",
       "min     1.000000   1.000000  34.000000   3.000000   3.000000   2.00000   \n",
       "25%    25.250000   5.250000  36.000000   9.000000   7.000000  10.00000   \n",
       "50%    49.500000  10.000000  37.000000  13.000000   9.000000  13.00000   \n",
       "75%    73.750000  15.000000  37.000000  17.000000  11.000000  17.00000   \n",
       "max    98.000000  20.000000  37.000000  28.000000  16.000000  26.00000   \n",
       "\n",
       "              GF         GA         GD        Pts      Pts/G         xG  \\\n",
       "count  98.000000  98.000000  98.000000  98.000000  98.000000  98.000000   \n",
       "mean   50.877551  50.877551   0.000000  49.734694   1.370204  48.653061   \n",
       "std    16.102933  13.634602  26.501896  16.166371   0.443903  12.453950   \n",
       "min    23.000000  24.000000 -56.000000  18.000000   0.530000  28.200000   \n",
       "25%    39.000000  40.000000 -17.750000  37.000000   1.000000  39.100000   \n",
       "50%    47.000000  50.000000  -1.000000  46.000000   1.300000  46.450000   \n",
       "75%    60.000000  59.000000  17.250000  61.750000   1.695000  55.550000   \n",
       "max    97.000000  89.000000  72.000000  90.000000   2.430000  88.100000   \n",
       "\n",
       "             xGA        xGD     xGD/90    Attendance  \n",
       "count  98.000000  98.000000  98.000000     98.000000  \n",
       "mean   48.645918  -0.005102   0.000918  24239.857143  \n",
       "std     9.812481  19.992506   0.551414  14874.171842  \n",
       "min    26.800000 -40.400000  -1.090000   5870.000000  \n",
       "25%    41.300000 -13.575000  -0.365000  12355.500000  \n",
       "50%    47.750000  -1.100000  -0.030000  20491.000000  \n",
       "75%    54.700000  12.800000   0.355000  32382.000000  \n",
       "max    73.300000  59.300000   1.600000  73150.000000  "
      ]
     },
     "execution_count": 3,
     "metadata": {},
     "output_type": "execute_result"
    }
   ],
   "source": [
    "# Let's review the statistics of the dataset\n",
    "uefa_df.describe()"
   ]
  },
  {
   "cell_type": "code",
   "execution_count": 4,
   "id": "015a479c",
   "metadata": {
    "ExecuteTime": {
     "end_time": "2022-11-13T22:10:58.337607Z",
     "start_time": "2022-11-13T22:10:58.231420Z"
    }
   },
   "outputs": [
    {
     "name": "stdout",
     "output_type": "stream",
     "text": [
      "No. of training examples: 78\n",
      "No. of testing examples: 20\n"
     ]
    }
   ],
   "source": [
    "# Now, let's split the data on train/test dataset, so we can test the train data\n",
    "from sklearn.model_selection import train_test_split\n",
    "\n",
    "# From the data, we take 80% for training, and 20% for testing. In this exercise we only will use the training data.\n",
    "training_data, testing_data = train_test_split(uefa_df, test_size=0.2, random_state=422)\n",
    "\n",
    "print(f\"No. of training examples: {training_data.shape[0]}\")\n",
    "print(f\"No. of testing examples: {testing_data.shape[0]}\")"
   ]
  },
  {
   "cell_type": "markdown",
   "id": "29bb2a94",
   "metadata": {},
   "source": [
    "I've choosen the column xG (the number of expected goals from one or several players) to run the test.\n",
    "\n",
    "In order to check if the data has a Gaussian Distribution, I'm going to use the Shapiro-Wilk Test:\n",
    "\n",
    "Where the null hypothesis establish:\n",
    "$H_0$: The training sample has a Gaussian Distribution\n",
    "\n",
    "and the alternative hypothesis: \n",
    "$H_1$: The training sample does not have a Gaussian Distribution "
   ]
  },
  {
   "cell_type": "code",
   "execution_count": 5,
   "id": "dcbef2b1",
   "metadata": {
    "ExecuteTime": {
     "end_time": "2022-11-13T22:10:58.353426Z",
     "start_time": "2022-11-13T22:10:58.338573Z"
    }
   },
   "outputs": [
    {
     "name": "stdout",
     "output_type": "stream",
     "text": [
      "stat=0.928, p=0.0003\n",
      "Probably not Gaussian\n"
     ]
    }
   ],
   "source": [
    "# On this exersice, I'm going to run the Shapiro-Wilk Normality Test\n",
    "from scipy.stats import shapiro\n",
    "data = training_data[\"xG\"]\n",
    "\n",
    "# p : P-value\n",
    "stat, p = shapiro(data)\n",
    "print('stat=%.3f, p=%.4f' % (stat, p))\n",
    "\n",
    "# Signigicant level set to 5% (0.05)\n",
    "if p > 0.05:\n",
    "    print('Probably Gaussian')\n",
    "else:\n",
    "    print('Probably not Gaussian')"
   ]
  },
  {
   "cell_type": "code",
   "execution_count": 6,
   "id": "fa5f56ef",
   "metadata": {
    "ExecuteTime": {
     "end_time": "2022-11-13T22:10:59.034381Z",
     "start_time": "2022-11-13T22:10:58.354422Z"
    }
   },
   "outputs": [
    {
     "data": {
      "text/plain": [
       "<seaborn.axisgrid.FacetGrid at 0x1893d9b4550>"
      ]
     },
     "execution_count": 6,
     "metadata": {},
     "output_type": "execute_result"
    },
    {
     "data": {
      "image/png": "[encoded data removed]",
      "text/plain": [
       "<Figure size 360x360 with 1 Axes>"
      ]
     },
     "metadata": {
      "needs_background": "light"
     },
     "output_type": "display_data"
    }
   ],
   "source": [
    "# Now, let's see the graph for xG on the training_set, where we can check that does not have a Gaussian Distribution\n",
    "sns.displot(training_data, x=\"xG\", kind=\"kde\")"
   ]
  },
  {
   "cell_type": "markdown",
   "id": "f54461c7",
   "metadata": {
    "ExecuteTime": {
     "end_time": "2022-11-02T18:19:23.471568Z",
     "start_time": "2022-11-02T18:19:23.459535Z"
    }
   },
   "source": [
    "## Exercise #2 - P-value - 2 attributes\n",
    "\n",
    "Using the same dataset, select another two attributes. Calculate the p-values and explain if they rejects the null hypothesis having a significance level ($ \\alpha $) of 5% (0.05).\n"
   ]
  },
  {
   "cell_type": "markdown",
   "id": "78787cb1",
   "metadata": {},
   "source": [
    "Let us test the dependency between these 2 variables:\n",
    "* GF – Goals For\n",
    "* xG - the number of expected goals from one or several players, depend on the quality of the kicks.\n",
    "\n",
    "In order to check it, I'm going to use the Kendall's Rank Correlation Test:\n",
    "\n",
    "Where the null hypothesis establish:\n",
    "$H_0$: The two samples are independent\n",
    "\n",
    "and the alternative hypothesis:\n",
    "$H_1$: There is dependency between the two samples  "
   ]
  },
  {
   "cell_type": "code",
   "execution_count": 7,
   "id": "9d1adf73",
   "metadata": {
    "ExecuteTime": {
     "end_time": "2022-11-13T22:10:59.188565Z",
     "start_time": "2022-11-13T22:10:59.035348Z"
    },
    "scrolled": true
   },
   "outputs": [
    {
     "data": {
      "text/plain": [
       "<AxesSubplot:xlabel='GF', ylabel='xG'>"
      ]
     },
     "execution_count": 7,
     "metadata": {},
     "output_type": "execute_result"
    },
    {
     "data": {
      "image/png": "[encoded data removed]",
      "text/plain": [
       "<Figure size 432x288 with 1 Axes>"
      ]
     },
     "metadata": {
      "needs_background": "light"
     },
     "output_type": "display_data"
    }
   ],
   "source": [
    "# In this case, let's take a look to the scatter plot betweeen these 2 variables. So we can see certain dependence \n",
    "# between them.\n",
    "sns.scatterplot(data=training_data, x=\"GF\", y=\"xG\")"
   ]
  },
  {
   "cell_type": "code",
   "execution_count": 8,
   "id": "5c6d9dca",
   "metadata": {
    "ExecuteTime": {
     "end_time": "2022-11-13T22:10:59.204536Z",
     "start_time": "2022-11-13T22:10:59.190566Z"
    }
   },
   "outputs": [
    {
     "name": "stdout",
     "output_type": "stream",
     "text": [
      "stat=0.738, p=0.000\n",
      "Probably dependent\n"
     ]
    }
   ],
   "source": [
    "# Kendall's Rank Correlation Test wit vars GF and xG\n",
    "from scipy.stats import kendalltau\n",
    "data1 = training_data[\"GF\"]\n",
    "data2 = training_data[\"xG\"]\n",
    "\n",
    "# p : P-value\n",
    "stat, p = kendalltau(data1, data2)\n",
    "print('stat=%.3f, p=%.3f' % (stat, p))\n",
    "\n",
    "# Significant level at 5% (0.05)\n",
    "if p > 0.05:\n",
    "    print('Probably independent')\n",
    "else:\n",
    "    print('Probably dependent')"
   ]
  },
  {
   "cell_type": "markdown",
   "id": "1a5b0d98",
   "metadata": {},
   "source": [
    "Once run the test, it tell us that probably both vars are dependent."
   ]
  },
  {
   "cell_type": "markdown",
   "id": "28ea7c78",
   "metadata": {
    "ExecuteTime": {
     "end_time": "2022-11-02T18:19:23.471568Z",
     "start_time": "2022-11-02T18:19:23.459535Z"
    }
   },
   "source": [
    "## Exercise #3 - P-value - 3 attributes\n",
    "\n",
    "Continuing with the same dataset, select three attributes. Calculate the p-value and explain if it rejects the null hypothesis having a significance level ($ \\alpha $) of 5% (0.05)."
   ]
  },
  {
   "cell_type": "markdown",
   "id": "83e9a1ca",
   "metadata": {},
   "source": [
    "For this exercise, I'm going to filter the dataset **uefa_df**. So I am going to select 3 different countries (form uefa_df). From these 3 datasets I will check the hypothesis test in order to know if they have the same distribution. "
   ]
  },
  {
   "cell_type": "code",
   "execution_count": 9,
   "id": "54aa07ca",
   "metadata": {
    "ExecuteTime": {
     "end_time": "2022-11-13T22:10:59.220536Z",
     "start_time": "2022-11-13T22:10:59.206691Z"
    }
   },
   "outputs": [
    {
     "data": {
      "text/plain": [
       "array(['ENG', 'ESP', 'GER', 'FRA', 'ITA'], dtype=object)"
      ]
     },
     "execution_count": 9,
     "metadata": {},
     "output_type": "execute_result"
    }
   ],
   "source": [
    "# Let's check how many countries we have represented on the dataset\n",
    "uefa_df[\"Country\"].unique()"
   ]
  },
  {
   "cell_type": "code",
   "execution_count": 10,
   "id": "79f8e704",
   "metadata": {
    "ExecuteTime": {
     "end_time": "2022-11-13T22:10:59.236554Z",
     "start_time": "2022-11-13T22:10:59.223536Z"
    },
    "scrolled": true
   },
   "outputs": [
    {
     "data": {
      "text/plain": [
       "Country\n",
       "ENG    20\n",
       "ESP    20\n",
       "FRA    20\n",
       "GER    18\n",
       "ITA    20\n",
       "Name: Country, dtype: int64"
      ]
     },
     "execution_count": 10,
     "metadata": {},
     "output_type": "execute_result"
    }
   ],
   "source": [
    "# Now, lets count the number of rows of each country\n",
    "uefa_df.groupby(by=[\"Country\"])[\"Country\"].count()"
   ]
  },
  {
   "cell_type": "markdown",
   "id": "4f1a9efa",
   "metadata": {
    "ExecuteTime": {
     "end_time": "2022-11-13T21:41:25.694500Z",
     "start_time": "2022-11-13T21:41:25.678476Z"
    }
   },
   "source": [
    "I am going to use the the nonparametric test Kruskal-Wallis Test, also known as the H-test. These are the test requirements:\n",
    "* Comparing the difference\n",
    "* Continuous data\n",
    "* Not sure about parametric test assumptions\n",
    "* 3 groups\n",
    "\n",
    "The Kruskal-Wallis test tests whether the different samples are equally distributed and therefore belong to the same distribution (population). Under certain simplifications, the Kruskal-Wallis test can be considered as comparing medians.\n",
    "\n",
    "The null hypothesis establish:\n",
    "$H_0$: All samples come from the same population (distribution)\n",
    "\n",
    "and the alternative hypothesis:\n",
    "$H_1$: At least one sample comes from a population with a different distribution"
   ]
  },
  {
   "cell_type": "code",
   "execution_count": 11,
   "id": "b165f978",
   "metadata": {
    "ExecuteTime": {
     "end_time": "2022-11-13T22:10:59.252524Z",
     "start_time": "2022-11-13T22:10:59.238540Z"
    }
   },
   "outputs": [],
   "source": [
    "# Let's create the 3 sets of data\n",
    "uefa_df_eng = uefa_df.loc[uefa_df['Country'] == 'ENG'] # England\n",
    "uefa_df_esp = uefa_df.loc[uefa_df['Country'] == 'ESP'] # Spain\n",
    "uefa_df_fra = uefa_df.loc[uefa_df['Country'] == 'FRA'] # France"
   ]
  },
  {
   "cell_type": "code",
   "execution_count": 12,
   "id": "83c673ad",
   "metadata": {
    "ExecuteTime": {
     "end_time": "2022-11-13T22:10:59.268609Z",
     "start_time": "2022-11-13T22:10:59.253520Z"
    }
   },
   "outputs": [
    {
     "name": "stdout",
     "output_type": "stream",
     "text": [
      "stat=1.158, p=0.560\n",
      "Probably the same distribution\n"
     ]
    }
   ],
   "source": [
    "# Kruskal-Wallis H Test for this 3 sets of vars \"xG\"\n",
    "from scipy.stats import kruskal\n",
    "data1 = uefa_df_eng[\"xG\"]\n",
    "data2 = uefa_df_esp[\"xG\"]\n",
    "data3 = uefa_df_fra[\"xG\"]\n",
    "\n",
    "# p : P-value\n",
    "stat, p = kruskal(data1, data2, data3)\n",
    "print('stat=%.3f, p=%.3f' % (stat, p))\n",
    "\n",
    "# Significant level at 5% (0.05)\n",
    "if p > 0.05:\n",
    "    print('Probably the same distribution')\n",
    "else:\n",
    "    print('Probably different distributions')"
   ]
  },
  {
   "cell_type": "code",
   "execution_count": 13,
   "id": "fa191436",
   "metadata": {
    "ExecuteTime": {
     "end_time": "2022-11-13T22:10:59.473647Z",
     "start_time": "2022-11-13T22:10:59.270604Z"
    }
   },
   "outputs": [
    {
     "data": {
      "image/png": "[encoded data removed]",
      "text/plain": [
       "<Figure size 432x288 with 1 Axes>"
      ]
     },
     "metadata": {},
     "output_type": "display_data"
    }
   ],
   "source": [
    "# Now, let's show the kdplot for the var \"xG\" of these 3 dataset in order to check it visually.\n",
    "# set a grey background\n",
    "sns.set(style=\"darkgrid\")\n",
    " \n",
    "# plot the 3 distibutions on the same figure\n",
    "fig = sns.kdeplot(uefa_df_eng[\"xG\"], shade=True, color=\"r\", label=\"xG (ENG)\")\n",
    "fig = sns.kdeplot(uefa_df_esp[\"xG\"], shade=True, color=\"b\", label=\"xG (ESP)\")\n",
    "fig = sns.kdeplot(uefa_df_fra[\"xG\"], shade=True, color=\"y\", label=\"xG (FRA)\")\n",
    "fig.legend()\n",
    "plt.show()"
   ]
  },
  {
   "cell_type": "markdown",
   "id": "d892466c",
   "metadata": {},
   "source": [
    "As we can see on the plot generated, the 3 countries have similar distribution. So, the variable xG, which mean the number of expected goals from one or several players, does not depend on the country. \n",
    "We can deduce that players from different countries have similar skills in relation of expected goals."
   ]
  }
 ],
 "metadata": {
  "kernelspec": {
   "display_name": "Python 3 (ipykernel)",
   "language": "python",
   "name": "python3"
  },
  "language_info": {
   "codemirror_mode": {
    "name": "ipython",
    "version": 3
   },
   "file_extension": ".py",
   "mimetype": "text/x-python",
   "name": "python",
   "nbconvert_exporter": "python",
   "pygments_lexer": "ipython3",
   "version": "3.9.12"
  },
  "latex_envs": {
   "LaTeX_envs_menu_present": true,
   "autoclose": false,
   "autocomplete": true,
   "bibliofile": "biblio.bib",
   "cite_by": "apalike",
   "current_citInitial": 1,
   "eqLabelWithNumbers": true,
   "eqNumInitial": 1,
   "hotkeys": {
    "equation": "Ctrl-E",
    "itemize": "Ctrl-I"
   },
   "labels_anchors": false,
   "latex_user_defs": false,
   "report_style_numbering": false,
   "user_envs_cfg": false
  },
  "nbTranslate": {
   "displayLangs": [
    "*"
   ],
   "hotkey": "alt-t",
   "langInMainMenu": true,
   "sourceLang": "en",
   "targetLang": "fr",
   "useGoogleTranslate": true
  },
  "toc": {
   "base_numbering": 1,
   "nav_menu": {},
   "number_sections": true,
   "sideBar": true,
   "skip_h1_title": true,
   "title_cell": "Table of Contents",
   "title_sidebar": "Contents",
   "toc_cell": false,
   "toc_position": {},
   "toc_section_display": true,
   "toc_window_display": true
  },
  "varInspector": {
   "cols": {
    "lenName": 16,
    "lenType": 16,
    "lenVar": 40
   },
   "kernels_config": {
    "python": {
     "delete_cmd_postfix": "",
     "delete_cmd_prefix": "del ",
     "library": "var_list.py",
     "varRefreshCmd": "print(var_dic_list())"
    },
    "r": {
     "delete_cmd_postfix": ") ",
     "delete_cmd_prefix": "rm(",
     "library": "var_list.r",
     "varRefreshCmd": "cat(var_dic_list()) "
    }
   },
   "types_to_exclude": [
    "module",
    "function",
    "builtin_function_or_method",
    "instance",
    "_Feature"
   ],
   "window_display": false
  }
 },
 "nbformat": 4,
 "nbformat_minor": 5
}
